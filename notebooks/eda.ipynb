{
 "cells": [
  {
   "cell_type": "markdown",
   "id": "74eb3b78",
   "metadata": {},
   "source": [
    "# Exploratory Data Analysis (EDA) - Lung Cancer CT Scan Dataset\n",
    "\n",
    "This notebook explores the chest CT scan dataset used for training a deep learning model\n",
    "to classify between:\n",
    "- Normal (No Cancer)\n",
    "- Adenocarcinoma\n",
    "- Large-Cell Carcinoma\n",
    "- Squamous Cell Carcinoma\n",
    "\n",
    "The goal is to understand the dataset, check class distributions, and visualize sample images\n",
    "before training."
   ]
  },
  {
   "cell_type": "code",
   "execution_count": null,
   "id": "819f331f",
   "metadata": {
    "vscode": {
     "languageId": "plaintext"
    }
   },
   "outputs": [],
   "source": [
    "import os\n",
    "import matplotlib.pyplot as plt\n",
    "import tensorflow as tf\n",
    "import numpy as np\n",
    "import seaborn as sns\n",
    "from collections import Counter\n",
    "\n",
    "DATA_DIR = \"../dataset\"\n",
    "\n",
    "IMAGE_SIZE = (224, 224)\n",
    "BATCH_SIZE = 32\n",
    "\n",
    "train_ds = tf.keras.utils.image_dataset_from_directory(\n",
    "    os.path.join(DATA_DIR, \"train\"),\n",
    "    image_size=IMAGE_SIZE,\n",
    "    batch_size=BATCH_SIZE\n",
    ")\n",
    "\n",
    "val_ds = tf.keras.utils.image_dataset_from_directory(\n",
    "    os.path.join(DATA_DIR, \"valid\"),\n",
    "    image_size=IMAGE_SIZE,\n",
    "    batch_size=BATCH_SIZE\n",
    ")\n",
    "\n",
    "test_ds = tf.keras.utils.image_dataset_from_directory(\n",
    "    os.path.join(DATA_DIR, \"test\"),\n",
    "    image_size=IMAGE_SIZE,\n",
    "    batch_size=BATCH_SIZE\n",
    ")\n",
    "\n",
    "class_names = train_ds.class_names\n",
    "print(\"Classes:\", class_names)"
   ]
  },
  {
   "cell_type": "markdown",
   "id": "3c4e1d1a",
   "metadata": {},
   "source": [
    "## Class Distribution\n",
    "\n",
    "We check how balanced the dataset is across the four classes.\n",
    "Imbalanced datasets can affect training and may require techniques like class weighting or data augmentation."
   ]
  },
  {
   "cell_type": "code",
   "execution_count": null,
   "id": "efe40384",
   "metadata": {
    "vscode": {
     "languageId": "plaintext"
    }
   },
   "outputs": [],
   "source": [
    "# Count labels in train dataset\n",
    "label_counts = Counter()\n",
    "for _, labels in train_ds.unbatch():\n",
    "    label_counts[int(labels.numpy())] += 1\n",
    "\n",
    "# Plot distribution\n",
    "sns.barplot(x=[class_names[k] for k in label_counts.keys()], y=label_counts.values())\n",
    "plt.title(\"Class Distribution in Training Set\")\n",
    "plt.ylabel(\"Number of Images\")\n",
    "plt.xlabel(\"Class\")\n",
    "plt.show()"
   ]
  },
  {
   "cell_type": "markdown",
   "id": "55c102b3",
   "metadata": {},
   "source": [
    "## Sample Images per Class\n",
    "\n",
    "Let’s visualize some sample CT scan images from each class to get a sense of what the data looks like."
   ]
  },
  {
   "cell_type": "code",
   "execution_count": null,
   "id": "8836e8e1",
   "metadata": {
    "vscode": {
     "languageId": "plaintext"
    }
   },
   "outputs": [],
   "source": [
    "plt.figure(figsize=(10, 10))\n",
    "for images, labels in train_ds.take(1):\n",
    "    for i in range(9):\n",
    "        ax = plt.subplot(3, 3, i + 1)\n",
    "        plt.imshow(images[i].numpy().astype(\"uint8\"))\n",
    "        plt.title(class_names[labels[i]])\n",
    "        plt.axis(\"off\")"
   ]
  },
  {
   "cell_type": "markdown",
   "id": "cfa2a38b",
   "metadata": {},
   "source": [
    "## Image Shapes\n",
    "\n",
    "We check the shape of the images and confirm the preprocessing step (resizing).\n"
   ]
  },
  {
   "cell_type": "code",
   "execution_count": null,
   "id": "c1f73027",
   "metadata": {
    "vscode": {
     "languageId": "plaintext"
    }
   },
   "outputs": [],
   "source": [
    "for images, labels in train_ds.take(1):\n",
    "    print(\"Image batch shape:\", images.shape)\n",
    "    print(\"Label batch shape:\", labels.shape)"
   ]
  },
  {
   "cell_type": "markdown",
   "id": "372d655b",
   "metadata": {},
   "source": [
    "## Pixel Value Range\n",
    "\n",
    "Since deep learning models perform better when inputs are normalized,\n",
    "we confirm the pixel value scaling."
   ]
  },
  {
   "cell_type": "code",
   "execution_count": null,
   "id": "92f58a30",
   "metadata": {
    "vscode": {
     "languageId": "plaintext"
    }
   },
   "outputs": [],
   "source": [
    "for images, labels in train_ds.take(1):\n",
    "    print(\"Min pixel value:\", tf.reduce_min(images).numpy())\n",
    "    print(\"Max pixel value:\", tf.reduce_max(images).numpy())"
   ]
  },
  {
   "cell_type": "markdown",
   "id": "af6af2ef",
   "metadata": {},
   "source": [
    "## Data Augmentation \n",
    "\n",
    "If we plan to use augmentation, let’s preview some transformations.\n"
   ]
  },
  {
   "cell_type": "code",
   "execution_count": null,
   "id": "8c4daae8",
   "metadata": {
    "vscode": {
     "languageId": "plaintext"
    }
   },
   "outputs": [],
   "source": [
    "data_augmentation = tf.keras.Sequential([\n",
    "    tf.keras.layers.RandomFlip(\"horizontal\"),\n",
    "    tf.keras.layers.RandomRotation(0.1),\n",
    "    tf.keras.layers.RandomZoom(0.1),\n",
    "])\n",
    "\n",
    "# Show augmented images\n",
    "for images, labels in train_ds.take(1):\n",
    "    plt.figure(figsize=(10, 10))\n",
    "    for i in range(9):\n",
    "        augmented = data_augmentation(images)\n",
    "        ax = plt.subplot(3, 3, i + 1)\n",
    "        plt.imshow(augmented[0].numpy().astype(\"uint8\"))\n",
    "        plt.title(class_names[labels[0]])\n",
    "        plt.axis(\"off\")\n",
    "    break"
   ]
  }
 ],
 "metadata": {
  "language_info": {
   "name": "python"
  }
 },
 "nbformat": 4,
 "nbformat_minor": 5
}
